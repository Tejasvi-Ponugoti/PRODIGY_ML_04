{
 "cells": [
  {
   "cell_type": "code",
   "execution_count": null,
   "id": "993dc8fc-f7fb-4313-a590-5325c48be2a9",
   "metadata": {},
   "outputs": [],
   "source": [
    "import tensorflow as tf\n",
    "import matplotlib.image as img\n",
    "%matplotlib inline\n",
    "import numpy as np\n",
    "from collections import defaultdict\n",
    "import collections\n",
    "from shutil import copy\n",
    "from shutil import copytree, rmtree\n",
    "import tensorflow.keras.backend as K\n",
    "from tensorflow.keras.models import load_model\n",
    "from tensorflow.keras.preprocessing import image\n",
    "import matplotlib.pyplot as plt\n",
    "import numpy as np\n",
    "import os\n",
    "import random\n",
    "import tensorflow as tf\n",
    "import tensorflow.keras.backend as K\n",
    "from tensorflow.keras import regularizers\n",
    "from tensorflow.keras.applications.inception_v3 import InceptionV3\n",
    "from tensorflow.keras.models import Sequential, Model\n",
    "from tensorflow.keras.layers import Dense, Dropout, Activation, Flatten\n",
    "from tensorflow.keras.layers import Convolution2D, MaxPooling2D, ZeroPadding2D, GlobalAveragePooling2D, AveragePooling2D\n",
    "from tensorflow.keras.preprocessing.image import ImageDataGenerator\n",
    "from tensorflow.keras.callbacks import ModelCheckpoint, CSVLogger\n",
    "from tensorflow.keras.optimizers import SGD\n",
    "from tensorflow.keras.regularizers import l2\n",
    "from tensorflow import keras\n",
    "from tensorflow.keras import models\n",
    "import cv2"
   ]
  },
  {
   "cell_type": "code",
   "execution_count": null,
   "id": "b96f38c4-4143-47f0-95af-13621e4ea27b",
   "metadata": {},
   "outputs": [],
   "source": [
    "# Check if GPU is enabled\n",
    "print(tf.__version__)\n",
    "print(tf.test.gpu_device_name())"
   ]
  },
  {
   "cell_type": "code",
   "execution_count": null,
   "id": "8844db85-8aa1-4a00-89c2-f371890a6d13",
   "metadata": {},
   "outputs": [],
   "source": [
    "# Helper function to download data and extract\n",
    "def get_data_extract():\n",
    "  if \"food-101\" in os.listdir():\n",
    "    print(\"Dataset already exists\")\n",
    "  else:\n",
    "    print(\"Downloading the data...\")\n",
    "    !wget http://data.vision.ee.ethz.ch/cvl/food-101.tar.gz\n",
    "    print(\"Dataset downloaded!\")\n",
    "    print(\"Extracting data..\")\n",
    "    !tar xzvf food-101.tar.gz\n",
    "    print(\"Extraction done!\")"
   ]
  },
  {
   "cell_type": "code",
   "execution_count": null,
   "id": "ecf758c5-5532-43d0-9a5a-6c067a0e3628",
   "metadata": {},
   "outputs": [],
   "source": [
    "# Download data and extract it to folder\n",
    "\n",
    "get_data_extract()"
   ]
  },
  {
   "cell_type": "code",
   "execution_count": null,
   "id": "3299bd72-dba8-4fb3-9eb5-7642210581cf",
   "metadata": {},
   "outputs": [],
   "source": [
    "# Check the extracted dataset folder\n",
    "!ls food-101/"
   ]
  },
  {
   "cell_type": "code",
   "execution_count": null,
   "id": "cfa672a2-5d0c-47bf-b0f0-eefdf0f18a3d",
   "metadata": {},
   "outputs": [],
   "source": [
    "os.listdir('food-101/images')"
   ]
  },
  {
   "cell_type": "code",
   "execution_count": null,
   "id": "b38a0ccf-a7fb-481c-9681-5366af203ee2",
   "metadata": {},
   "outputs": [],
   "source": [
    "os.listdir('food-101/meta')"
   ]
  },
  {
   "cell_type": "code",
   "execution_count": null,
   "id": "d7a21ec5-7121-4d66-8e55-42ad48c87c8d",
   "metadata": {},
   "outputs": [],
   "source": [
    "!head food-101/meta/train.txt"
   ]
  },
  {
   "cell_type": "code",
   "execution_count": null,
   "id": "a2c829cb-c158-4883-9e4a-1ea0c6f7952c",
   "metadata": {},
   "outputs": [],
   "source": [
    "!head food-101/meta/classes.txt"
   ]
  },
  {
   "cell_type": "code",
   "execution_count": null,
   "id": "a2aeeccc-89cf-4790-972d-4e25433c117c",
   "metadata": {},
   "outputs": [],
   "source": [
    "# Visualize the data, showing one image per class from 101 classes\n",
    "rows = 17\n",
    "cols = 6\n",
    "fig, ax = plt.subplots(rows, cols, figsize=(25,25))\n",
    "fig.suptitle(\"Showing one random image from each class\", y=1.05, fontsize=24) # Adding  y=1.05, fontsize=24 helped me fix the suptitle overlapping with axes issue\n",
    "data_dir = \"food-101/images/\"\n",
    "foods_sorted = sorted(os.listdir(data_dir))\n",
    "food_id = 0\n",
    "for i in range(rows):\n",
    "  for j in range(cols):\n",
    "    try:\n",
    "      food_selected = foods_sorted[food_id] \n",
    "      food_id += 1\n",
    "    except:\n",
    "      break\n",
    "    if food_selected == '.DS_Store':\n",
    "        continue\n",
    "    food_selected_images = os.listdir(os.path.join(data_dir,food_selected)) # returns the list of all files present in each food category\n",
    "    food_selected_random = np.random.choice(food_selected_images) # picks one food item from the list as choice, takes a list and returns one random item\n",
    "    img = plt.imread(os.path.join(data_dir,food_selected, food_selected_random))\n",
    "    ax[i][j].imshow(img)\n",
    "    ax[i][j].set_title(food_selected, pad = 10)\n",
    "    \n",
    "plt.setp(ax, xticks=[],yticks=[])\n",
    "plt.tight_layout()\n",
    "# https://matplotlib.org/users/tight_layout_guide.html"
   ]
  },
  {
   "cell_type": "code",
   "execution_count": null,
   "id": "21e4ebd3-7bde-4c91-abee-13e8fc4fa9e3",
   "metadata": {},
   "outputs": [],
   "source": [
    "# Helper method to split dataset into train and test folders\n",
    "def prepare_data(filepath, src,dest):\n",
    "  classes_images = defaultdict(list)\n",
    "  with open(filepath, 'r') as txt:\n",
    "      paths = [read.strip() for read in txt.readlines()]\n",
    "      for p in paths:\n",
    "        food = p.split('/')\n",
    "        classes_images[food[0]].append(food[1] + '.jpg')\n",
    "\n",
    "  for food in classes_images.keys():\n",
    "    print(\"\\nCopying images into \",food)\n",
    "    if not os.path.exists(os.path.join(dest,food)):\n",
    "      os.makedirs(os.path.join(dest,food))\n",
    "    for i in classes_images[food]:\n",
    "      copy(os.path.join(src,food,i), os.path.join(dest,food,i))\n",
    "  print(\"Copying Done!\")"
   ]
  },
  {
   "cell_type": "code",
   "execution_count": null,
   "id": "f547769c-2d12-4c19-93c1-e62934679554",
   "metadata": {},
   "outputs": [],
   "source": [
    "# Prepare train dataset by copying images from food-101/images to food-101/train using the file train.txt\n",
    "print(\"Creating train data...\")\n",
    "prepare_data('/food-101/food-101/meta/train.txt', '/food-101/food-101/images', 'train')"
   ]
  },
  {
   "cell_type": "code",
   "execution_count": null,
   "id": "48eee6d5-ae8d-4167-b641-a387b33d9cc9",
   "metadata": {},
   "outputs": [],
   "source": [
    "# Prepare test data by copying images from food-101/images to food-101/test using the file test.txt\n",
    "print(\"Creating test data...\")\n",
    "prepare_data('food-101/food-101/meta/test.txt', 'food-101/food-101/images', 'test')"
   ]
  },
  {
   "cell_type": "code",
   "execution_count": null,
   "id": "927e9468-d0fe-4c3d-b0bc-c3050a05dbe4",
   "metadata": {},
   "outputs": [],
   "source": [
    "# Check how many files are in the train folder\n",
    "print(\"Total number of samples in train folder\")\n",
    "!find train -type d -or -type f -printf '.' | wc -c"
   ]
  },
  {
   "cell_type": "code",
   "execution_count": null,
   "id": "755cf0d1-eb70-42cb-addc-155d68d4cf5f",
   "metadata": {},
   "outputs": [],
   "source": [
    "# Check how many files are in the test folder\n",
    "print(\"Total number of samples in test folder\")\n",
    "!find test -type d -or -type f -printf '.' | wc -c"
   ]
  },
  {
   "cell_type": "code",
   "execution_count": null,
   "id": "1d1fc948-e187-4827-bafc-9841a2b750dd",
   "metadata": {},
   "outputs": [],
   "source": [
    "os.chdir('/')b\n"
   ]
  },
  {
   "cell_type": "code",
   "execution_count": null,
   "id": "72b263c9-ef54-4aa8-a823-a45cc3535084",
   "metadata": {},
   "outputs": [],
   "source": [
    "# List of all 101 types of foods(sorted alphabetically)\n",
    "del foods_sorted[0] # remove .DS_Store from the list"
   ]
  },
  {
   "cell_type": "code",
   "execution_count": null,
   "id": "add2be12-b5c6-4048-b05c-9987c206cc51",
   "metadata": {},
   "outputs": [],
   "source": [
    "\n",
    "foods_sorted"
   ]
  },
  {
   "cell_type": "code",
   "execution_count": null,
   "id": "8e405e61-a1b2-4b69-8411-5a1dfda62cca",
   "metadata": {},
   "outputs": [],
   "source": [
    "# Helper method to create train_mini and test_mini data samples\n",
    "def dataset_mini(food_list, src, dest):\n",
    "  if os.path.exists(dest):\n",
    "    rmtree(dest) # removing dataset_mini(if it already exists) folders so that we will have only the classes that we want\n",
    "  os.makedirs(dest)\n",
    "  for food_item in food_list :\n",
    "    print(\"Copying images into\",food_item)\n",
    "    copytree(os.path.join(src,food_item), os.path.join(dest,food_item))"
   ]
  },
  {
   "cell_type": "code",
   "execution_count": null,
   "id": "a55307e1-02ce-4730-968f-d8cfd556a20a",
   "metadata": {},
   "outputs": [],
   "source": [
    "# picking 3 food items and generating separate data folders for the same\n",
    "food_list = ['apple_pie','pizza','omelette']\n",
    "src_train = 'train'\n",
    "dest_train = 'train_mini/'\n",
    "src_test = 'test'\n",
    "dest_test = 'test_mini/'"
   ]
  },
  {
   "cell_type": "code",
   "execution_count": null,
   "id": "3d61cb72-9f02-4434-81dd-36f120c116c8",
   "metadata": {},
   "outputs": [],
   "source": [
    "print(\"Creating train data folder with new classes\")\n",
    "dataset_mini(food_list, src_train, dest_train)"
   ]
  },
  {
   "cell_type": "code",
   "execution_count": null,
   "id": "739035b5-05e3-4cb1-9ca7-d7dfbed04dd9",
   "metadata": {},
   "outputs": [],
   "source": [
    "print(\"Total number of samples in train folder\")\n",
    "\n",
    "!find /kaggle/working/train_mini -type d -or -type f -printf '.' | wc -c"
   ]
  },
  {
   "cell_type": "code",
   "execution_count": null,
   "id": "91124581-f45c-4f82-81d7-3e1f9154410a",
   "metadata": {},
   "outputs": [],
   "source": [
    "print(\"Creating test data folder with new classes\")\n",
    "dataset_mini(food_list, src_test, dest_test)"
   ]
  },
  {
   "cell_type": "code",
   "execution_count": null,
   "id": "025a511c-916c-43cf-be59-1092a5a9c9e2",
   "metadata": {},
   "outputs": [],
   "source": [
    "print(\"Total number of samples in test folder\")\n",
    "!find /kaggle/working/test_mini -type d -or -type f -printf '.' | wc -c"
   ]
  },
  {
   "cell_type": "code",
   "execution_count": null,
   "id": "83001fde-8a1c-455f-aa29-e6b3d388481e",
   "metadata": {},
   "outputs": [],
   "source": [
    "from tensorflow.keras.applications.resnet50 import ResNet50\n",
    "\n",
    "K.clear_session()\n",
    "n_classes = 3\n",
    "img_width, img_height = 224, 224\n",
    "train_data_dir = 'train_mini'\n",
    "validation_data_dir = 'test_mini'\n",
    "nb_train_samples = 2250 #75750\n",
    "nb_validation_samples = 750 #25250\n",
    "batch_size = 16\n",
    "\n",
    "train_datagen = ImageDataGenerator(\n",
    "    rescale=1. / 255,\n",
    "    shear_range=0.2,\n",
    "    zoom_range=0.2,\n",
    "    horizontal_flip=True)\n",
    "\n",
    "test_datagen = ImageDataGenerator(rescale=1. / 255)\n",
    "\n",
    "train_generator = train_datagen.flow_from_directory(\n",
    "    train_data_dir,\n",
    "    target_size=(img_height, img_width),\n",
    "    batch_size=batch_size,\n",
    "    class_mode='categorical')\n",
    "\n",
    "validation_generator = test_datagen.flow_from_directory(\n",
    "    validation_data_dir,\n",
    "    target_size=(img_height, img_width),\n",
    "    batch_size=batch_size,\n",
    "    class_mode='categorical')\n",
    "\n",
    "\n",
    "resnet50 = ResNet50(weights='imagenet', include_top=False)\n",
    "x = resnet50.output\n",
    "x = GlobalAveragePooling2D()(x)\n",
    "x = Dense(128,activation='relu')(x)\n",
    "x = Dropout(0.2)(x)\n",
    "\n",
    "predictions = Dense(3,kernel_regularizer=regularizers.l2(0.005), activation='softmax')(x)\n",
    "\n",
    "model = Model(inputs=resnet50.input, outputs=predictions)\n",
    "model.compile(optimizer=SGD(lr=0.0001, momentum=0.9), loss='categorical_crossentropy', metrics=['accuracy'])\n",
    "checkpointer = ModelCheckpoint(filepath='best_model_3class.hdf5', verbose=1, save_best_only=True)\n",
    "csv_logger = CSVLogger('history_3class.log')\n",
    "\n",
    "history = model.fit_generator(train_generator,\n",
    "                    steps_per_epoch = nb_train_samples // batch_size,\n",
    "                    validation_data=validation_generator,\n",
    "                    validation_steps=nb_validation_samples // batch_size,\n",
    "                    epochs=30,\n",
    "                    verbose=1,\n",
    "                    callbacks=[csv_logger, checkpointer])\n",
    "\n",
    "model.save('model_trained_3class.hdf5')"
   ]
  },
  {
   "cell_type": "code",
   "execution_count": null,
   "id": "850a800f-f816-4e0b-a558-5f9e726c8db9",
   "metadata": {},
   "outputs": [],
   "source": [
    "class_map_3 = train_generator.class_indices\n",
    "class_map_3"
   ]
  },
  {
   "cell_type": "code",
   "execution_count": null,
   "id": "4e297850-d9fa-4ffe-beca-ea49ae83012d",
   "metadata": {},
   "outputs": [],
   "source": [
    "def plot_accuracy(history,title):\n",
    "    plt.title(title)\n",
    "    plt.plot(history.history['acc'])\n",
    "    plt.plot(history.history['val_acc'])\n",
    "    plt.ylabel('accuracy')\n",
    "    plt.xlabel('epoch')\n",
    "    plt.legend(['train_accuracy', 'validation_accuracy'], loc='best')\n",
    "    plt.show()\n",
    "def plot_loss(history,title):\n",
    "    plt.title(title)\n",
    "    plt.plot(history.history['loss'])\n",
    "    plt.plot(history.history['val_loss'])\n",
    "    plt.ylabel('loss')\n",
    "    plt.xlabel('epoch')\n",
    "    plt.legend(['train_loss', 'validation_loss'], loc='best')\n",
    "    plt.show()"
   ]
  },
  {
   "cell_type": "code",
   "execution_count": null,
   "id": "10f222fe-cfaa-4fca-a9b9-3f34a1adf0ef",
   "metadata": {},
   "outputs": [],
   "source": [
    "plot_accuracy(history,'FOOD101-ResNet50')\n",
    "plot_loss(history,'FOOD101-ResNet50')"
   ]
  },
  {
   "cell_type": "code",
   "execution_count": null,
   "id": "5cbd8d07-2316-4f32-9a55-d732be806bef",
   "metadata": {},
   "outputs": [],
   "source": [
    "%%time\n",
    "# Loading the best saved model to make predictions\n",
    "K.clear_session()\n",
    "model_best = load_model('/kaggle/working/best_model_3class.hdf5',compile = False)"
   ]
  },
  {
   "cell_type": "code",
   "execution_count": null,
   "id": "8a119aa8-c96e-4a39-957c-e8ea203fae46",
   "metadata": {},
   "outputs": [],
   "source": [
    "def predict_class(model, images, show = True):\n",
    "  for img in images:\n",
    "    img = image.load_img(img, target_size=(224, 224))\n",
    "    img = image.img_to_array(img)                    \n",
    "    img = np.expand_dims(img, axis=0)         \n",
    "    img /= 255.                                      \n",
    "\n",
    "    pred = model.predict(img)\n",
    "    index = np.argmax(pred)\n",
    "    food_list.sort()\n",
    "    pred_value = food_list[index]\n",
    "    if show:\n",
    "        plt.imshow(img[0])                           \n",
    "        plt.axis('off')\n",
    "        plt.title(pred_value)\n",
    "        plt.show()"
   ]
  },
  {
   "cell_type": "code",
   "execution_count": null,
   "id": "62a03c5c-f836-4363-be50-80d1852b6f40",
   "metadata": {},
   "outputs": [],
   "source": [
    "# Make a list of downloaded images and test the trained model\n",
    "images = []\n",
    "images.append('applepie.jpg')\n",
    "images.append('pizza.jpg')\n",
    "images.append('omelette.jpg')\n",
    "predict_class(model_best, images, True)"
   ]
  },
  {
   "cell_type": "code",
   "execution_count": null,
   "id": "3014ba8c-92fb-4f14-b28e-90f95b347622",
   "metadata": {},
   "outputs": [],
   "source": [
    "# Helper function to select n random food classes\n",
    "def pick_n_random_classes(n):\n",
    "  food_list = []\n",
    "  random_food_indices = random.sample(range(len(foods_sorted)),n) # We are picking n random food classes\n",
    "  for i in random_food_indices:\n",
    "    food_list.append(foods_sorted[i])\n",
    "  food_list.sort()\n",
    "  return food_list"
   ]
  },
  {
   "cell_type": "code",
   "execution_count": null,
   "id": "4587133b-41ec-4dcd-a100-caf79a0c7843",
   "metadata": {},
   "outputs": [],
   "source": [
    "# Lets try with more classes than just 3. Also, this time lets randomly pick the food classes\n",
    "n = 11\n",
    "food_list = pick_n_random_classes(n)\n",
    "food_list = ['apple_pie', 'beef_carpaccio', 'bibimbap', 'cup_cakes', 'foie_gras', 'french_fries', 'garlic_bread', 'pizza', 'spring_rolls', 'spaghetti_carbonara', 'strawberry_shortcake']\n",
    "print(\"These are the randomly picked food classes we will be training the model on...\\n\", food_list)"
   ]
  },
  {
   "cell_type": "code",
   "execution_count": null,
   "id": "33b43a64-ead7-4994-b4c4-7b3056af6bd4",
   "metadata": {},
   "outputs": [],
   "source": [
    "# Create the new data subset of n classes\n",
    "print(\"Creating training data folder with new classes...\")\n",
    "dataset_mini(food_list, src_train, dest_train)"
   ]
  },
  {
   "cell_type": "code",
   "execution_count": null,
   "id": "e3be6959-7e76-4246-b6ed-a3f499be0fee",
   "metadata": {},
   "outputs": [],
   "source": [
    "print(\"Total number of samples in train folder\")\n",
    "!find train_mini/ -type d -or -type f -printf '.' | wc -c"
   ]
  },
  {
   "cell_type": "code",
   "execution_count": null,
   "id": "5fba4c1c-0340-4ac8-99e7-a55032ed10d0",
   "metadata": {},
   "outputs": [],
   "source": [
    "print(\"Creating test data folder with new classes\")\n",
    "dataset_mini(food_list, src_test, dest_test)"
   ]
  },
  {
   "cell_type": "code",
   "execution_count": null,
   "id": "9b3bf949-546c-4397-9e14-0be72c795c04",
   "metadata": {},
   "outputs": [],
   "source": [
    "print(\"Total number of samples in test folder\")\n",
    "!find test_mini/ -type d -or -type f -printf '.' | wc -c"
   ]
  },
  {
   "cell_type": "code",
   "execution_count": null,
   "id": "80e53f31-f705-4d6d-933a-1c9e6988ed66",
   "metadata": {},
   "outputs": [],
   "source": [
    "# Let's use a pretrained Inceptionv3 model on subset of data with 11 food classes\n",
    "K.clear_session()\n",
    "\n",
    "n_classes = n\n",
    "img_width, img_height = 224, 224\n",
    "train_data_dir = 'train_mini'\n",
    "validation_data_dir = 'test_mini'\n",
    "nb_train_samples = 8250 #75750\n",
    "nb_validation_samples = 2750 #25250\n",
    "batch_size = 16\n",
    "\n",
    "train_datagen = ImageDataGenerator(\n",
    "    rescale=1. / 255,\n",
    "    shear_range=0.2,\n",
    "    zoom_range=0.2,\n",
    "    horizontal_flip=True)\n",
    "\n",
    "test_datagen = ImageDataGenerator(rescale=1. / 255)\n",
    "\n",
    "train_generator = train_datagen.flow_from_directory(\n",
    "    train_data_dir,\n",
    "    target_size=(img_height, img_width),\n",
    "    batch_size=batch_size,\n",
    "    class_mode='categorical')\n",
    "\n",
    "validation_generator = test_datagen.flow_from_directory(\n",
    "    validation_data_dir,\n",
    "    target_size=(img_height, img_width),\n",
    "    batch_size=batch_size,\n",
    "    class_mode='categorical')\n",
    "\n",
    "\n",
    "resnet50 = ResNet50(weights='imagenet', include_top=False)\n",
    "x = resnet50.output\n",
    "x = GlobalAveragePooling2D()(x)\n",
    "x = Dense(128,activation='relu')(x)\n",
    "x = Dropout(0.2)(x)\n",
    "\n",
    "predictions = Dense(n,kernel_regularizer=regularizers.l2(0.005), activation='softmax')(x)\n",
    "\n",
    "model = Model(inputs=resnet50.input, outputs=predictions)\n",
    "model.compile(optimizer=SGD(lr=0.0001, momentum=0.9), loss='categorical_crossentropy', metrics=['accuracy'])\n",
    "checkpointer = ModelCheckpoint(filepath='best_model_11class.hdf5', verbose=1, save_best_only=True)\n",
    "csv_logger = CSVLogger('history_11class.log')\n",
    "\n",
    "history_11class = model.fit_generator(train_generator,\n",
    "                    steps_per_epoch = nb_train_samples // batch_size,\n",
    "                    validation_data=validation_generator,\n",
    "                    validation_steps=nb_validation_samples // batch_size,\n",
    "                    epochs=30,\n",
    "                    verbose=1,\n",
    "                    callbacks=[csv_logger, checkpointer])\n",
    "\n",
    "model.save('model_trained_11class.hdf5')"
   ]
  },
  {
   "cell_type": "code",
   "execution_count": null,
   "id": "0af61f18-b829-46e4-a159-91f1ee90faea",
   "metadata": {},
   "outputs": [],
   "source": [
    "class_map_11 = train_generator.class_indices\n",
    "class_map_11"
   ]
  },
  {
   "cell_type": "code",
   "execution_count": null,
   "id": "0de6647a-25d7-4385-80e0-1faf7719c277",
   "metadata": {},
   "outputs": [],
   "source": [
    "plot_accuracy(history_11class,'FOOD101-ResNet50')\n",
    "plot_loss(history_11class,'FOOD101-ResNet50')"
   ]
  },
  {
   "cell_type": "code",
   "execution_count": null,
   "id": "46d6042a-357d-4412-a446-3f1905cb0423",
   "metadata": {},
   "outputs": [],
   "source": [
    "%%time\n",
    "# Loading the best saved model to make predictions\n",
    "K.clear_session()\n",
    "model_best = load_model('/kaggle/working/best_model_11class.hdf5',compile = False)"
   ]
  },
  {
   "cell_type": "code",
   "execution_count": null,
   "id": "a150388e-5271-40e9-b68f-07f4160bb0db",
   "metadata": {},
   "outputs": [],
   "source": [
    "# Make a list of downloaded images and test the trained model\n",
    "images = []\n",
    "images.append('cupcakes.jpg')\n",
    "# images.append('pizza.jpg')\n",
    "images.append('springrolls.jpg')\n",
    "images.append('garlicbread.jpg')\n",
    "predict_class(model_best, images, True)"
   ]
  },
  {
   "cell_type": "code",
   "execution_count": null,
   "id": "d4676ca9-4032-4a87-8a4a-b483a614213f",
   "metadata": {},
   "outputs": [],
   "source": [
    "os.chdir(\"AbdulQadeer/Dataset/\")"
   ]
  },
  {
   "cell_type": "code",
   "execution_count": null,
   "id": "81c87c1b-0630-4295-aa0c-a70e7101b1bd",
   "metadata": {},
   "outputs": [],
   "source": [
    "tf.keras.utils.plot_model(model, to_file='model_plot.png', show_shapes=True, show_layer_names=True)"
   ]
  }
 ],
 "metadata": {
  "kernelspec": {
   "display_name": "Python 3 (ipykernel)",
   "language": "python",
   "name": "python3"
  },
  "language_info": {
   "codemirror_mode": {
    "name": "ipython",
    "version": 3
   },
   "file_extension": ".py",
   "mimetype": "text/x-python",
   "name": "python",
   "nbconvert_exporter": "python",
   "pygments_lexer": "ipython3",
   "version": "3.12.4"
  }
 },
 "nbformat": 4,
 "nbformat_minor": 5
}
